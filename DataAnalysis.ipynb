{
  "nbformat": 4,
  "nbformat_minor": 0,
  "metadata": {
    "colab": {
      "name": "DataAnalysis.ipynb",
      "private_outputs": true,
      "provenance": [],
      "collapsed_sections": [],
      "toc_visible": true
    },
    "kernelspec": {
      "name": "python3",
      "display_name": "Python 3"
    }
  },
  "cells": [
    {
      "cell_type": "markdown",
      "metadata": {
        "id": "APhbrClbrSXL"
      },
      "source": [
        "On installe les librairies:"
      ]
    },
    {
      "cell_type": "code",
      "metadata": {
        "id": "S9-wbC5Dq-ic"
      },
      "source": [
        "!pip install ipympl\r\n",
        "!pip install matplotlib\r\n",
        "!pip install numpy\r\n",
        "!pip install pandas\r\n",
        "!pip install seaborn\r\n",
        "!pip install seaborn --upgrade"
      ],
      "execution_count": null,
      "outputs": []
    },
    {
      "cell_type": "markdown",
      "metadata": {
        "id": "Ofju-2Om1hh2"
      },
      "source": [
        "On importe les librairie"
      ]
    },
    {
      "cell_type": "code",
      "metadata": {
        "id": "2e8uH1PmrJhs"
      },
      "source": [
        "import matplotlib.pyplot as plt\r\n",
        "import numpy as np\r\n",
        "import pandas as pd\r\n",
        "import seaborn as sns\r\n",
        "from sklearn import *\r\n",
        "from sklearn.linear_model import *\r\n",
        "from sklearn.metrics import *\r\n",
        "from sklearn.ensemble import *\r\n",
        "from sklearn.preprocessing import *\r\n",
        "from sklearn.model_selection import *\r\n",
        "if float(sns.__version__[2:])<11:\r\n",
        "    print(\"Sns version must be superior to 0.11.0 ;your current version:\",sns.__version__)\r\n",
        "plt.rcParams['figure.figsize'] = [12, 8]\r\n",
        "plt.rcParams['figure.dpi'] = 100 "
      ],
      "execution_count": null,
      "outputs": []
    },
    {
      "cell_type": "code",
      "metadata": {
        "id": "la9ufVGUrmsD"
      },
      "source": [
        "dfObesity = pd.read_csv(\"ObesityDataSet_raw_and_data_sinthetic.csv\",sep=\",\")\r\n",
        "dfObesity.head()"
      ],
      "execution_count": null,
      "outputs": []
    },
    {
      "cell_type": "markdown",
      "metadata": {
        "id": "e4upfpkyr4gj"
      },
      "source": [
        "# Preparation des données"
      ]
    },
    {
      "cell_type": "markdown",
      "metadata": {
        "id": "YtmtVaZBr9sq"
      },
      "source": [
        "## Détecte s'il y a des valeurs non définies (Il n'y en a pas)"
      ]
    },
    {
      "cell_type": "code",
      "metadata": {
        "id": "KecsNLNur3n7"
      },
      "source": [
        "testNA=dfObesity.isna().sum()\r\n",
        "print(testNA)\r\n",
        "print(\"\\nIl y a\",sum(testNA),\"avec des valeurs NA\")"
      ],
      "execution_count": null,
      "outputs": []
    },
    {
      "cell_type": "markdown",
      "metadata": {
        "id": "eIDXhOG-sgU5"
      },
      "source": [
        "## Compréhension des données"
      ]
    },
    {
      "cell_type": "code",
      "metadata": {
        "id": "pu-Nf-uXsk9i"
      },
      "source": [
        "dfObesity.dtypes"
      ],
      "execution_count": null,
      "outputs": []
    },
    {
      "cell_type": "markdown",
      "metadata": {
        "id": "o_yRXYLvw2XX"
      },
      "source": [
        "On crée un dataset avec les variables catégorielles remplacée par des nombres"
      ]
    },
    {
      "cell_type": "code",
      "metadata": {
        "id": "Y6vk_NcjuZcA"
      },
      "source": [
        "dfObesity2=dfObesity.copy()\r\n",
        "for col in dfObesity2.columns.to_numpy():\r\n",
        "  if dfObesity2[col].dtype==\"object\":\r\n",
        "    dfObesity2[col]=dfObesity2[col].astype(\"category\").cat.codes\r\n",
        "dfObesity2.dtypes"
      ],
      "execution_count": null,
      "outputs": []
    },
    {
      "cell_type": "code",
      "metadata": {
        "id": "Ui-PTRUJsqsC"
      },
      "source": [
        "dfObesity2.describe().T"
      ],
      "execution_count": null,
      "outputs": []
    },
    {
      "cell_type": "code",
      "metadata": {
        "id": "Ip3eswO9tSI5"
      },
      "source": [
        "sns.set(style=\"ticks\")\r\n",
        "sns.pairplot(dfObesity2, hue='NObeyesdad')"
      ],
      "execution_count": null,
      "outputs": []
    },
    {
      "cell_type": "markdown",
      "metadata": {
        "id": "fcgHYiBRzSK1"
      },
      "source": [
        "Il semble que l'Age n'est pas beaucoup d'influence sur le type d'Obésité"
      ]
    },
    {
      "cell_type": "code",
      "metadata": {
        "id": "ErG0A8TJzaNY"
      },
      "source": [
        "sns.scatterplot(x=\"Age\", y=\"NObeyesdad\",data=dfObesity);"
      ],
      "execution_count": null,
      "outputs": []
    },
    {
      "cell_type": "code",
      "metadata": {
        "id": "ao7Pe2bC0f6a"
      },
      "source": [
        "sns.displot(dfObesity, x=\"Age\", hue=\"NObeyesdad\", kind=\"kde\", fill=True)"
      ],
      "execution_count": null,
      "outputs": []
    },
    {
      "cell_type": "markdown",
      "metadata": {
        "id": "ACLFgyZk0wzz"
      },
      "source": [
        "Lien entre la taille et le type d'obésité:"
      ]
    },
    {
      "cell_type": "code",
      "metadata": {
        "id": "osfJdDMX04OV"
      },
      "source": [
        "sns.scatterplot(x=\"Height\", y=\"NObeyesdad\",data=dfObesity);"
      ],
      "execution_count": null,
      "outputs": []
    },
    {
      "cell_type": "code",
      "metadata": {
        "id": "tH-7EWGc1lXz"
      },
      "source": [
        "sns.displot(dfObesity, x=\"Height\", hue=\"NObeyesdad\", kind=\"kde\", fill=True)"
      ],
      "execution_count": null,
      "outputs": []
    },
    {
      "cell_type": "markdown",
      "metadata": {
        "id": "k8Tp7IPJ12l8"
      },
      "source": [
        "Lien entre le Poids et le type d'obésité:"
      ]
    },
    {
      "cell_type": "code",
      "metadata": {
        "id": "oysHJzFg16Ki"
      },
      "source": [
        "sns.scatterplot(x=\"Weight\", y=\"NObeyesdad\",data=dfObesity);"
      ],
      "execution_count": null,
      "outputs": []
    },
    {
      "cell_type": "code",
      "metadata": {
        "id": "hTGTek_c18v5"
      },
      "source": [
        "sns.displot(dfObesity, x=\"Weight\", hue=\"NObeyesdad\", kind=\"kde\", fill=True)"
      ],
      "execution_count": null,
      "outputs": []
    },
    {
      "cell_type": "markdown",
      "metadata": {
        "id": "migWzy9_2dP5"
      },
      "source": [
        "### Création de nouvelles variables:"
      ]
    },
    {
      "cell_type": "markdown",
      "metadata": {
        "id": "dj3gYnF2y6rk"
      },
      "source": [
        "On peut voir que le Poid et la Taille sont liés quasi-linéairement:"
      ]
    },
    {
      "cell_type": "code",
      "metadata": {
        "id": "k2xlZ2SSy6FE"
      },
      "source": [
        "sns.scatterplot(x=\"Height\", y=\"Weight\",hue='NObeyesdad',data=dfObesity);\r\n",
        "sns.displot(dfObesity, x=\"Height\", y=\"Weight\", hue=\"NObeyesdad\", kind=\"kde\", fill=True)"
      ],
      "execution_count": null,
      "outputs": []
    },
    {
      "cell_type": "markdown",
      "metadata": {
        "id": "TwmTSbOWxeJo"
      },
      "source": [
        "### On peut lier le poids et le taille de différente façon: "
      ]
    },
    {
      "cell_type": "markdown",
      "metadata": {
        "id": "690NVjMh34cs"
      },
      "source": [
        "En utilisant l'IMC, qui lie le poids et la taille: Poids/Taille²"
      ]
    },
    {
      "cell_type": "code",
      "metadata": {
        "id": "dvXKwp2FxQti"
      },
      "source": [
        "dfObesity['IMC']=dfObesity['Weight']/(dfObesity['Height'])**2\r\n",
        "sns.scatterplot(x=\"IMC\", y='NObeyesdad',data=dfObesity);"
      ],
      "execution_count": null,
      "outputs": []
    },
    {
      "cell_type": "code",
      "metadata": {
        "id": "5FuwhHNa4Ijg"
      },
      "source": [
        "sns.displot(dfObesity, x=\"IMC\", hue=\"NObeyesdad\", kind=\"kde\", fill=True)"
      ],
      "execution_count": null,
      "outputs": []
    },
    {
      "cell_type": "markdown",
      "metadata": {
        "id": "OS4JEZZL4MEQ"
      },
      "source": [
        "On peut voir que cela sépare déjà très bien les différents type d'obésité"
      ]
    },
    {
      "cell_type": "markdown",
      "metadata": {
        "id": "ezpsg6X04tf7"
      },
      "source": [
        "### En utilisant une regression linéaire:"
      ]
    },
    {
      "cell_type": "code",
      "metadata": {
        "id": "7qnG0Im64p4_"
      },
      "source": [
        "from sklearn.linear_model import *\r\n",
        "\r\n",
        "lCoef=[]\r\n",
        "\r\n",
        "for cat in dfObesity[\"NObeyesdad\"].unique():\r\n",
        "  x=dfObesity[\"Height\"][dfObesity[\"NObeyesdad\"]==cat].to_numpy()\r\n",
        "  y=dfObesity[\"Weight\"][dfObesity[\"NObeyesdad\"]==cat].to_numpy()\r\n",
        "  reg=LinearRegression().fit(np.array([x]).T, np.array([y]).T)\r\n",
        "  lCoef+=[reg.coef_[0][0]]\r\n",
        "  plt.plot(x,y,\"o\")\r\n",
        "\r\n",
        "# On peut se demander s'il est mieux de faire une moyenne des angles des pentes, ou de leur coefficient directeur:\r\n",
        "meanCoef1=np.mean(lCoef)\r\n",
        "meanCoef2=np.tan(np.mean(np.arctan(lCoef)))\r\n",
        "\r\n",
        "print(\"Coefficient directeur moyen:\",meanCoef1,meanCoef2)\r\n",
        "i=np.array([np.amin(dfObesity[\"Height\"]), np.amax(dfObesity[\"Height\"])])\r\n",
        "plt.plot(i,i*meanCoef1-90, \"b\")\r\n",
        "plt.plot(i,i*meanCoef2-90, \"r\")\r\n",
        "\r\n",
        "dfObesity['Regression1']=dfObesity['Weight']-(dfObesity['Height'])*meanCoef1\r\n",
        "dfObesity['Regression2']=dfObesity['Weight']-(dfObesity['Height'])*meanCoef2"
      ],
      "execution_count": null,
      "outputs": []
    },
    {
      "cell_type": "markdown",
      "metadata": {
        "id": "-pHZeASdAHwj"
      },
      "source": [
        "Nous allons maintenant voir quel est la meilleur varibale créée des 3 (IMC, regression1, et regression2):"
      ]
    },
    {
      "cell_type": "code",
      "metadata": {
        "id": "xjSr-09n8uPP"
      },
      "source": [
        "\r\n",
        "\r\n",
        "dfObesity['IMC_Test']=(dfObesity['IMC']-dfObesity['IMC'].mean())/dfObesity['IMC'].std()\r\n",
        "dfObesity['Regression1_Test']=(dfObesity['Regression1']-dfObesity['Regression1'].mean())/dfObesity['Regression1'].std()\r\n",
        "dfObesity['Regression2_Test']=(dfObesity['Regression2']-dfObesity['Regression2'].mean())/dfObesity['Regression2'].std()\r\n",
        "\r\n",
        "\r\n",
        "sns.scatterplot(x=\"IMC_Test\", y='NObeyesdad',data=dfObesity)\r\n",
        "sns.scatterplot(x=\"Regression1_Test\", y='NObeyesdad',data=dfObesity)\r\n",
        "sns.scatterplot(x=\"Regression2_Test\", y='NObeyesdad',data=dfObesity)\r\n",
        "plt.legend(labels=['IMC', 'Regression1', 'Regression2'])"
      ],
      "execution_count": null,
      "outputs": []
    },
    {
      "cell_type": "code",
      "metadata": {
        "id": "3Kv_94K59Mk9"
      },
      "source": [
        "sns.displot(dfObesity, x=\"IMC\", hue=\"NObeyesdad\", kind=\"kde\", fill=True)\r\n",
        "sns.displot(dfObesity, x=\"Regression1\", hue=\"NObeyesdad\", kind=\"kde\", fill=True)\r\n",
        "sns.displot(dfObesity, x=\"Regression2\", hue=\"NObeyesdad\", kind=\"kde\", fill=True)"
      ],
      "execution_count": null,
      "outputs": []
    },
    {
      "cell_type": "markdown",
      "metadata": {
        "id": "tBS1zk79r7Y2"
      },
      "source": [
        "# Modélisation et Prédiction:"
      ]
    },
    {
      "cell_type": "markdown",
      "metadata": {
        "id": "kxfmQwJ0sAw9"
      },
      "source": [
        "## Utiliser IMC"
      ]
    },
    {
      "cell_type": "code",
      "metadata": {
        "id": "z6Vo_tQnsDIX"
      },
      "source": [
        "def IMC(x):\r\n",
        "  dIMC={18.5:\"Insufficient_Weight\",\r\n",
        "        25:\"Normal_Weight\",\r\n",
        "        30:\"Overweight_Level_I\",\r\n",
        "        35:\"Overweight_Level_II\",\r\n",
        "        40:\"Obesity_Type_I\",\r\n",
        "        float('inf'):\"Obesity_Type_II\"}\r\n",
        "  for v,c in dIMC.items():\r\n",
        "    if x<v:\r\n",
        "      return c\r\n",
        "\r\n",
        "dfObesity[\"IMCPrediction\"]=[IMC(x) for x in dfObesity['IMC']]\r\n",
        "\r\n",
        "cm = confusion_matrix(dfObesity[\"NObeyesdad\"], dfObesity[\"IMCPrediction\"], labels=[\"Insufficient_Weight\", \"Normal_Weight\", \"Overweight_Level_I\",\"Overweight_Level_II\",\"Obesity_Type_I\",\"Obesity_Type_II\"])\r\n",
        "plt.imshow(cm)\r\n",
        "print(cm)\r\n",
        "sns.scatterplot(x=\"NObeyesdad\", y=\"IMCPrediction\",hue='NObeyesdad',data=dfObesity)"
      ],
      "execution_count": null,
      "outputs": []
    },
    {
      "cell_type": "code",
      "metadata": {
        "id": "dsl2cqhY6aN5"
      },
      "source": [
        "sns.displot(x=\"NObeyesdad\", y=\"IMCPrediction\",hue='NObeyesdad',data=dfObesity)"
      ],
      "execution_count": null,
      "outputs": []
    },
    {
      "cell_type": "code",
      "metadata": {
        "id": "h6I7JEgr7z57"
      },
      "source": [
        "result=sum(dfObesity[\"NObeyesdad\"]==dfObesity[\"IMCPrediction\"])/len(dfObesity[\"IMCPrediction\"])\r\n",
        "print(\"Il y a\",round(result*100),\"% de bons résultats !\")"
      ],
      "execution_count": null,
      "outputs": []
    },
    {
      "cell_type": "markdown",
      "metadata": {
        "id": "isj2hXGQ8Gjq"
      },
      "source": [
        "Nous allons essayer de modifier manuellement les valeurs de l'IMC, pour voir si nous pouvons trouver de meilleur résultats:"
      ]
    },
    {
      "cell_type": "code",
      "metadata": {
        "id": "nrnf-jWcv7Ff"
      },
      "source": [
        "def IMC2(x):\r\n",
        "  dIMC={18.5:\"Insufficient_Weight\",\r\n",
        "        25:\"Normal_Weight\",\r\n",
        "        27:\"Overweight_Level_I\",\r\n",
        "        30:\"Overweight_Level_II\",\r\n",
        "        35:\"Obesity_Type_I\",\r\n",
        "        float('inf'):\"Obesity_Type_II\"}\r\n",
        "  for v,c in dIMC.items():\r\n",
        "    if x<v:\r\n",
        "      return c\r\n",
        "\r\n",
        "dfObesity[\"IMCPrediction2\"]=[IMC2(x) for x in dfObesity['IMC']]\r\n",
        "\r\n",
        "cm = confusion_matrix(dfObesity[\"NObeyesdad\"], dfObesity[\"IMCPrediction2\"], labels=[\"Insufficient_Weight\", \"Normal_Weight\", \"Overweight_Level_I\",\"Overweight_Level_II\",\"Obesity_Type_I\",\"Obesity_Type_II\"])\r\n",
        "plt.imshow(cm)\r\n",
        "sns.scatterplot(x=\"NObeyesdad\", y=\"IMCPrediction2\",hue='NObeyesdad',data=dfObesity)"
      ],
      "execution_count": null,
      "outputs": []
    },
    {
      "cell_type": "code",
      "metadata": {
        "id": "z6pMCneg8pRg"
      },
      "source": [
        "sns.displot(x=\"NObeyesdad\", y=\"IMC2Prediction\",hue='NObeyesdad',data=dfObesity)"
      ],
      "execution_count": null,
      "outputs": []
    },
    {
      "cell_type": "code",
      "metadata": {
        "id": "Xb4Vd2VG8UA1"
      },
      "source": [
        "result=sum(dfObesity[\"NObeyesdad\"]==dfObesity[\"IMCPrediction2\"])/len(dfObesity[\"IMCPrediction2\"])\r\n",
        "print(\"Il y a\",round(result*100),\"de bons résultats !\")"
      ],
      "execution_count": null,
      "outputs": []
    },
    {
      "cell_type": "markdown",
      "metadata": {
        "id": "ilWCnzaT9Sxj"
      },
      "source": [
        "## KNN modélisation"
      ]
    },
    {
      "cell_type": "code",
      "metadata": {
        "id": "TOq55amg9W1-"
      },
      "source": [
        "title_cat2 = dfObesity.columns[:-1]\r\n",
        "df = dfObesity.copy()\r\n",
        "for i in title_cat2:\r\n",
        "  df[i]=df[i].astype(\"category\").cat.codes\r\n",
        "\r\n",
        "\r\n",
        "X = df.iloc[:, :-1].values\r\n",
        "y = df.iloc[:, 16].values\r\n",
        "\r\n",
        "from sklearn.model_selection import train_test_split\r\n",
        "X_train, X_test, y_train, y_test = train_test_split(X, y, test_size=0.20)\r\n",
        "\r\n",
        "from sklearn.preprocessing import StandardScaler\r\n",
        "scaler = StandardScaler()\r\n",
        "scaler.fit(X_train)\r\n",
        "\r\n",
        "X_train = scaler.transform(X_train)\r\n",
        "X_test = scaler.transform(X_test)\r\n",
        "\r\n",
        "from sklearn.neighbors import KNeighborsClassifier\r\n",
        "classifier = KNeighborsClassifier(n_neighbors=3)\r\n",
        "classifier.fit(X_train, y_train)\r\n",
        "\r\n",
        "y_pred = classifier.predict(X_test)\r\n",
        "\r\n",
        "from sklearn.metrics import classification_report, confusion_matrix\r\n",
        "print(confusion_matrix(y_test, y_pred))\r\n",
        "plt.imshow(confusion_matrix(y_test, y_pred))\r\n",
        "print(classification_report(y_test, y_pred))\r\n",
        "\r\n",
        "error = []\r\n",
        "\r\n",
        "# Calculating error for K values between 1 and 40\r\n",
        "for i in range(1, 25):\r\n",
        "    knn = KNeighborsClassifier(n_neighbors=i)\r\n",
        "    knn.fit(X_train, y_train)\r\n",
        "    pred_i = knn.predict(X_test)\r\n",
        "    error.append(np.mean(pred_i == y_test))\r\n",
        "\r\n",
        "plt.figure(figsize=(15, 6))\r\n",
        "plt.plot(range(1, 25), error, marker='o',\r\n",
        "         markerfacecolor='blue', markersize=10)\r\n",
        "plt.title('Error Rate K Value')\r\n",
        "plt.xlabel('K Value')\r\n",
        "plt.ylabel('Mean susccess')\r\n",
        "\r\n",
        "print(\"Il y a\",round(max(error)*100),\"% de bons résultats !\")"
      ],
      "execution_count": null,
      "outputs": []
    },
    {
      "cell_type": "markdown",
      "metadata": {
        "id": "TeXlEUUcTYWD"
      },
      "source": [
        "## RandomForest:"
      ]
    },
    {
      "cell_type": "code",
      "metadata": {
        "id": "X5P-vBsjTatr"
      },
      "source": [
        "y=dfObesity2[\"NObeyesdad\"]\r\n",
        "X=dfObesity2.drop(\"NObeyesdad\",axis=1)\r\n",
        "X_train,X_test,y_train,y_test=train_test_split(X,y,test_size=0.33)\r\n",
        "\r\n",
        "\r\n",
        "\r\n",
        "\r\n",
        "rfc = RandomForestClassifier(n_estimators=500, random_state=0)\r\n",
        "rfc.fit(X_train, y_train)\r\n",
        "y_pred = rfc.predict(X_test)\r\n",
        "\r\n",
        "\r\n",
        "\r\n",
        "print(confusion_matrix(y_test,y_pred))\r\n",
        "print(classification_report(y_test,y_pred))\r\n",
        "print(accuracy_score(y_test, y_pred))\r\n"
      ],
      "execution_count": null,
      "outputs": []
    }
  ]
}
